{
 "cells": [
  {
   "cell_type": "code",
   "execution_count": null,
   "metadata": {},
   "outputs": [],
   "source": []
  },
  {
   "cell_type": "raw",
   "metadata": {},
   "source": [
    "# Week 2 Quiz\n",
    "\n",
    "## Krista Zhang - rz2559"
   ]
  },
  {
   "cell_type": "markdown",
   "metadata": {},
   "source": [
    "### Instructions\n",
    "\n",
    "Replace the Name and UNI in cell above and the notebook name\n",
    "\n",
    "Replace all '____' below using the instructions provided.\n",
    "\n",
    "When completed, \n",
    " - make sure you've replaced Name and UNI in the first cell and filename  (eg: week_02_quiz-hw2592)\n",
    " - Click the github link shared on canvas for quiz2 to generate your own repository of quiz2 \n",
    " - Click your own repository of quiz2 to commit your answers to github"
   ]
  },
  {
   "cell_type": "markdown",
   "metadata": {},
   "source": [
    "---"
   ]
  },
  {
   "cell_type": "markdown",
   "metadata": {},
   "source": [
    "## 1. Lists"
   ]
  },
  {
   "cell_type": "code",
   "execution_count": 6,
   "metadata": {},
   "outputs": [
    {
     "name": "stdout",
     "output_type": "stream",
     "text": [
      "red\n"
     ]
    }
   ],
   "source": [
    "# Create a list containing the strings 'blue','red','green'\n",
    "colors = ['blue','red','green']\n",
    "\n",
    "# Assert that value at index 0 of the list colors is equal to 'blue'\n",
    "assert colors[0] == 'blue'\n",
    "\n",
    "# Using list indexing, print out the value of colors at index 1\n",
    "# You should see the output \"red\" without quotes\n",
    "print(colors[1])"
   ]
  },
  {
   "cell_type": "markdown",
   "metadata": {},
   "source": [
    "## 2. Dicts"
   ]
  },
  {
   "cell_type": "code",
   "execution_count": 70,
   "metadata": {},
   "outputs": [
    {
     "name": "stdout",
     "output_type": "stream",
     "text": [
      "1\n"
     ]
    }
   ],
   "source": [
    "# Create a dictionary which maps the string keys 'zero','one','two'\n",
    "#    to the int values 0,1,2\n",
    "str_to_int = {'zero':0,'one':1,'two':2}\n",
    "\n",
    "# Assert that the value returned for key 'two' equals 2 in str_to_int\n",
    "assert str_to_int['two'] == 2\n",
    "\n",
    "# Using str_to_int, print out the value for the key 'one'\n",
    "# You should see the output 1\n",
    "print(str_to_int['one'])"
   ]
  },
  {
   "cell_type": "markdown",
   "metadata": {},
   "source": [
    "## 3. String Formatting And For Loops"
   ]
  },
  {
   "cell_type": "code",
   "execution_count": 32,
   "metadata": {},
   "outputs": [
    {
     "name": "stdout",
     "output_type": "stream",
     "text": [
      "the length of colors is 3\n",
      "the value at index 0 is blue\n",
      "the value at index 1 is red\n",
      "the value at index 2 is green\n"
     ]
    }
   ],
   "source": [
    "# Using the len function and f\"\" string formatting, print the number of elements in colors defined above.\n",
    "print(\"the length of colors is {}\".format(len(colors)))\n",
    "\n",
    "# Using the enumerate function, the colors list defined above, and f\"\" string formatting\n",
    "#   for every index,value pair from enumerate(colors)\n",
    "#   print \"the value at index {index} is {value}\"\n",
    "#   Ex: \n",
    "#     the value at index 0 is blue\n",
    "#     the value at index 1 is red\n",
    "#     the value at index 2 is green\n",
    "for index,value in enumerate(colors):\n",
    "    print(\"the value at index {} is {}\".format(index,value))"
   ]
  },
  {
   "cell_type": "markdown",
   "metadata": {},
   "source": [
    "## 4. List Comprehension"
   ]
  },
  {
   "cell_type": "code",
   "execution_count": 34,
   "metadata": {},
   "outputs": [
    {
     "data": {
      "text/plain": [
       "4"
      ]
     },
     "execution_count": 34,
     "metadata": {},
     "output_type": "execute_result"
    }
   ],
   "source": [
    "# Using a list comprehension and the len() function,\n",
    "#    create a list corresponding to the lengths of each of the strings in colors\n",
    "# Store the resulting list in variable color_lengths\n",
    "color_lengths = [len(x) for x in colors]\n",
    "\n",
    "# Assert that the first value in color_lengths is 4 (the length of 'blue')\n",
    "color_lengths[0]"
   ]
  },
  {
   "cell_type": "markdown",
   "metadata": {},
   "source": [
    "## 5. Functions and Control Flow"
   ]
  },
  {
   "cell_type": "code",
   "execution_count": 91,
   "metadata": {},
   "outputs": [
    {
     "name": "stdout",
     "output_type": "stream",
     "text": [
      "one_odd\n",
      "empty\n"
     ]
    },
    {
     "ename": "AssertionError",
     "evalue": "",
     "output_type": "error",
     "traceback": [
      "\u001b[1;31m---------------------------------------------------------------------------\u001b[0m",
      "\u001b[1;31mAssertionError\u001b[0m                            Traceback (most recent call last)",
      "\u001b[1;32m~\\AppData\\Local\\Temp/ipykernel_24560/3121529872.py\u001b[0m in \u001b[0;36m<module>\u001b[1;34m\u001b[0m\n\u001b[0;32m     17\u001b[0m \u001b[1;31m#assert append_even_odd('test') == 'test_even'\u001b[0m\u001b[1;33m\u001b[0m\u001b[1;33m\u001b[0m\u001b[0m\n\u001b[0;32m     18\u001b[0m \u001b[1;31m#assert append_even_odd('one') == 'one_odd'\u001b[0m\u001b[1;33m\u001b[0m\u001b[1;33m\u001b[0m\u001b[0m\n\u001b[1;32m---> 19\u001b[1;33m \u001b[1;32massert\u001b[0m \u001b[0mappend_even_odd\u001b[0m\u001b[1;33m(\u001b[0m\u001b[1;34m''\u001b[0m\u001b[1;33m)\u001b[0m \u001b[1;33m==\u001b[0m \u001b[1;34m'empty'\u001b[0m\u001b[1;33m\u001b[0m\u001b[1;33m\u001b[0m\u001b[0m\n\u001b[0m",
      "\u001b[1;31mAssertionError\u001b[0m: "
     ]
    }
   ],
   "source": [
    "# Define a function called append_even_odd\n",
    "# It should expect to take in a string\n",
    "#    if the string is empty (has length of 0), return 'empty'\n",
    "#    else if the string has an even number of characters, return the string with '_even' added to the end \n",
    "#    else if the string has an odd number of characters, return the string with '_odd' added to the end\n",
    "# For example: 'blue' should become 'blue_even'\n",
    "def append_even_odd(string):\n",
    "    if len(string)==0:\n",
    "        print('empty') \n",
    "    elif (len(string) % 2) == 0:\n",
    "        print( '{}_even'.format(string))\n",
    "    else:\n",
    "        print('{}_odd'.format(string))\n",
    "\n",
    "append_even_odd('one')\n",
    "\n",
    "#assert append_even_odd('test') == 'test_even'\n",
    "#assert append_even_odd('one') == 'one_odd'\n",
    "assert append_even_odd('') == 'empty'"
   ]
  },
  {
   "cell_type": "markdown",
   "metadata": {},
   "source": [
    "## 6. Sorting"
   ]
  },
  {
   "cell_type": "code",
   "execution_count": 74,
   "metadata": {},
   "outputs": [],
   "source": [
    "# Using sorted(), sort the list color_lengths created above, descending in value (reverse=True)\n",
    "# Save as color_lengths_sorted\n",
    "color_lengths_sorted = sorted(color_lengths,reverse=True)\n",
    "\n",
    "# Assert that the last element of color_lengths_sorted is 3\n",
    "assert color_lengths_sorted[-1] == 3"
   ]
  },
  {
   "cell_type": "markdown",
   "metadata": {},
   "source": [
    "### For More Practice (not required):"
   ]
  },
  {
   "cell_type": "code",
   "execution_count": null,
   "metadata": {},
   "outputs": [],
   "source": [
    "# Create a list of the key,value pairs in the str_to_int dictionary sorted by value, decending\n",
    "# str_to_int_sorted = ____\n",
    "\n",
    "# assert that the first element of str_to_int_sorted is ('two',2)\n",
    "# ____"
   ]
  }
 ],
 "metadata": {
  "kernelspec": {
   "display_name": "Python 3 (ipykernel)",
   "language": "python",
   "name": "python3"
  },
  "language_info": {
   "codemirror_mode": {
    "name": "ipython",
    "version": 3
   },
   "file_extension": ".py",
   "mimetype": "text/x-python",
   "name": "python",
   "nbconvert_exporter": "python",
   "pygments_lexer": "ipython3",
   "version": "3.9.7"
  }
 },
 "nbformat": 4,
 "nbformat_minor": 2
}
