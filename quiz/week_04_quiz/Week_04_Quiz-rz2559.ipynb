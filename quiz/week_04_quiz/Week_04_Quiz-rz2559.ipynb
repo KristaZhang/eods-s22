{
 "cells": [
  {
   "cell_type": "markdown",
   "metadata": {},
   "source": [
    "# Week 4 Quiz\n",
    "\n",
    "## Ruijing Zhang - rz2559\n"
   ]
  },
  {
   "cell_type": "markdown",
   "metadata": {},
   "source": [
    "### Instructions\n",
    "\n",
    "Replace the Name and UNI in cell above and the notebook name\n",
    "\n",
    "Replace all '____' below using the instructions provided.\n",
    "\n",
    "When completed, \n",
    " - make sure you've replaced Name and UNI in the first cell and filename (eg: week_04_quiz-hw2592)\n",
    " - Click the github link shared on canvas for quiz4 to generate your own repository of quiz4\n",
    " - Click your own repository of quiz4 to commit your answers to github"
   ]
  },
  {
   "cell_type": "code",
   "execution_count": 18,
   "metadata": {},
   "outputs": [],
   "source": [
    "import pandas as pd\n",
    "import numpy as np\n",
    "import seaborn as sns\n",
    "import matplotlib.pyplot as plt\n",
    "sns.set_style('darkgrid')\n",
    "\n",
    "%matplotlib inline"
   ]
  },
  {
   "cell_type": "markdown",
   "metadata": {},
   "source": [
    "We're going to calculate the 95% confidence interval for the mean value of 'magnesium' from our wine dataset."
   ]
  },
  {
   "cell_type": "code",
   "execution_count": 19,
   "metadata": {},
   "outputs": [
    {
     "name": "stdout",
     "output_type": "stream",
     "text": [
      "<class 'pandas.core.frame.DataFrame'>\n",
      "RangeIndex: 178 entries, 0 to 177\n",
      "Data columns (total 14 columns):\n",
      " #   Column                        Non-Null Count  Dtype  \n",
      "---  ------                        --------------  -----  \n",
      " 0   alcohol                       178 non-null    float64\n",
      " 1   malic_acid                    178 non-null    float64\n",
      " 2   ash                           178 non-null    float64\n",
      " 3   alcalinity_of_ash             178 non-null    float64\n",
      " 4   magnesium                     178 non-null    float64\n",
      " 5   total_phenols                 178 non-null    float64\n",
      " 6   flavanoids                    178 non-null    float64\n",
      " 7   nonflavanoid_phenols          178 non-null    float64\n",
      " 8   proanthocyanins               178 non-null    float64\n",
      " 9   color_intensity               178 non-null    float64\n",
      " 10  hue                           178 non-null    float64\n",
      " 11  od280/od315_of_diluted_wines  178 non-null    float64\n",
      " 12  proline                       178 non-null    float64\n",
      " 13  class                         178 non-null    int64  \n",
      "dtypes: float64(13), int64(1)\n",
      "memory usage: 19.6 KB\n"
     ]
    }
   ],
   "source": [
    "# Read in ../data/wine_dataset.csv as df\n",
    "df = pd.read_csv('../../data/wine_dataset.csv')\n",
    "\n",
    "# print .info() on df for a summary of the dataset\n",
    "df.info()"
   ]
  },
  {
   "cell_type": "code",
   "execution_count": 20,
   "metadata": {},
   "outputs": [
    {
     "data": {
      "text/plain": [
       "(80.0, 110.0)"
      ]
     },
     "execution_count": 20,
     "metadata": {},
     "output_type": "execute_result"
    },
    {
     "data": {
      "image/png": "[encoded data removed]",
      "text/plain": [
       "<Figure size 864x432 with 1 Axes>"
      ]
     },
     "metadata": {
      "needs_background": "light"
     },
     "output_type": "display_data"
    }
   ],
   "source": [
    "# Generate a barplot of the 'magnesium' column with 95% confidence intervals using sns.barplot()\n",
    "# These are the CI values we're going to calculate below.\n",
    "# Capture the axis of the plot in ax\n",
    "fig,ax = plt.subplots(1,1,figsize=(12,6))\n",
    "ax = sns.barplot(x = 'magnesium',data= df,\n",
    "           estimator=np.mean, # default\n",
    "            ci=95,              # 95% CI\n",
    "            color='c')\n",
    "\n",
    "\n",
    "# To zoom in, set the xlimits using ax.set_xlim(80,110)\n",
    "ax.set_xlim(80,110)"
   ]
  },
  {
   "cell_type": "code",
   "execution_count": 28,
   "metadata": {},
   "outputs": [
    {
     "name": "stdout",
     "output_type": "stream",
     "text": [
      "magnesium    99.74\n",
      "dtype: float64\n"
     ]
    }
   ],
   "source": [
    "# Assign the mean value of magnesium to variable observed_mean\n",
    "observed_mean = df[['magnesium']].mean()\n",
    "\n",
    "# Print the observed mean with a precision of 2\n",
    "print(round(observed_mean,2))"
   ]
  },
  {
   "cell_type": "code",
   "execution_count": 30,
   "metadata": {},
   "outputs": [
    {
     "name": "stdout",
     "output_type": "stream",
     "text": [
      "magnesium    99.74\n",
      "dtype: float64\n"
     ]
    }
   ],
   "source": [
    "# generate a bootstrap sample of df.magnesium (with the same number of values as the original dataset)\n",
    "#   using .sample() (with replacement) \n",
    "#   using random_state=123 so our answers will match\n",
    "#   assign the result to sample\n",
    "sample = df.magnesium.sample(n=len(df.magnesium), # same size as number of observations,\n",
    "                                        replace=True,            # sample with replacement\n",
    "                                        random_state=123         # for reproducability\n",
    "                                       )\n",
    "\n",
    "# Print the mean of the sample with a precision of 2\n",
    "# Note: if the sample mean is the same as the observed mean, \n",
    "#       check, are you sampling with replacement?\n",
    "sample_mean = df[['magnesium']].mean()\n",
    "print (round(sample_mean,2))"
   ]
  },
  {
   "cell_type": "code",
   "execution_count": 35,
   "metadata": {},
   "outputs": [
    {
     "data": {
      "application/vnd.jupyter.widget-view+json": {
       "model_id": "b09e84e923e14ceba0c6b1800c1bffbc",
       "version_major": 2,
       "version_minor": 0
      },
      "text/plain": [
       "  0%|          | 0/1000 [00:00<?, ?it/s]"
      ]
     },
     "metadata": {},
     "output_type": "display_data"
    },
    {
     "name": "stdout",
     "output_type": "stream",
     "text": [
      "[ 99.53932584 100.3988764  100.06741573  99.68539326 100.03932584]\n"
     ]
    }
   ],
   "source": [
    "# Generate 1000 additional sample means using bootstrap sampling from the 'magnesium' column\n",
    "#   each sample should have the same number of values as the original dataframe\n",
    "#   sample with replacement\n",
    "#   do not use random_state for this step (your results may differ from the course solution slightly)\n",
    "#   store in the list sample_means\n",
    "\n",
    "# tqdm gives us a progress bar when looping\n",
    "from tqdm.notebook import tqdm \n",
    "num_iterations = 1000\n",
    "sample_means = []\n",
    "\n",
    "for i in tqdm(range(num_iterations)):\n",
    "    # 1. draw a random sample of size *n* from the data\n",
    "    random_sample = df.magnesium.sample(n=df.magnesium.shape[0], # or frac=1\n",
    "                                            replace=True\n",
    "                                           )\n",
    "    # 2. record the sample statistic from this random sample\n",
    "    sample_means.append(random_sample.mean())\n",
    "    \n",
    "# convert into a numpy array\n",
    "sample_means = np.array(sample_means)\n",
    "    \n",
    "# Print the first 5 values in sample_means\n",
    "print(sample_means[:5])"
   ]
  },
  {
   "cell_type": "code",
   "execution_count": 38,
   "metadata": {},
   "outputs": [
    {
     "data": {
      "image/png": "[encoded data removed]",
      "text/plain": [
       "<Figure size 864x576 with 1 Axes>"
      ]
     },
     "metadata": {
      "needs_background": "light"
     },
     "output_type": "display_data"
    }
   ],
   "source": [
    "# Plot the distribution of sample means using sns.histplot\n",
    "# Store the returned axis in ax\n",
    "fig,ax = plt.subplots(1,1,figsize=(12,8))\n",
    "\n",
    "ax = sns.histplot(x=sample_means,kde=True)\n",
    "\n",
    "# Add a vertical line located at the observed mean on the x-axis using ax.axvline()\n",
    "#   Set the color of the line to 'red'\n",
    "# The observed_mean should fall near the center of the distribution.\n",
    "\n",
    "ax.axvline(df.magnesium.mean(), color='r');"
   ]
  },
  {
   "cell_type": "code",
   "execution_count": 40,
   "metadata": {},
   "outputs": [
    {
     "data": {
      "text/plain": [
       "25.00000000000002"
      ]
     },
     "execution_count": 40,
     "metadata": {},
     "output_type": "execute_result"
    }
   ],
   "source": [
    "# To get the 95% confidence interval, we want to retain the central 95% of our sample_means.\n",
    "# To do this we need to first determine how many values must be trimmed from the ends of the sorted array.\n",
    "# For 95% CI, we want to trim 1/2 of 5% from each end.\n",
    "# Calculate 2.5% of the length of sample_means and store as trim_amount.\n",
    "\n",
    "# calculate where to trim\n",
    "trim_amount = .5*(1-.95) * num_iterations\n",
    "\n",
    "\n",
    "# print the trim_amount, the number of elements we'll trim from each end of the sorted list\n",
    "trim_amount"
   ]
  },
  {
   "cell_type": "code",
   "execution_count": 41,
   "metadata": {},
   "outputs": [
    {
     "data": {
      "text/plain": [
       "25"
      ]
     },
     "execution_count": 41,
     "metadata": {},
     "output_type": "execute_result"
    }
   ],
   "source": [
    "# We want to index into our sample_means, but trim_amount is a float.\n",
    "# We must be first round this value and converted to an integer.\n",
    "# Use np.round() to round and int() to convert to int and store the result in trim_idx.\n",
    "trim_idx = int(np.round(trim_amount))\n",
    "\n",
    "# Print trim_idx\n",
    "trim_idx"
   ]
  },
  {
   "cell_type": "code",
   "execution_count": 43,
   "metadata": {},
   "outputs": [
    {
     "data": {
      "image/png": "[encoded data removed]",
      "text/plain": [
       "<Figure size 864x576 with 1 Axes>"
      ]
     },
     "metadata": {
      "needs_background": "light"
     },
     "output_type": "display_data"
    }
   ],
   "source": [
    "# We can now print the 95% CI for our measure by indexing into the sorted array of sample_means.\n",
    "# Use np.sort() to return a sorted numpy array \n",
    "#   then use a list of the indices we want, [trim_idx,-trim_idx-1], to use \"fancy indexing\" on this sorted array.\n",
    "# Store the 95% CI values as ci\n",
    "ci = np.sort(sample_means)[[trim_idx,-trim_idx-1]]\n",
    "\n",
    "# Print the ci values and visually compare the endpoints of the CI in the barplot above.\n",
    "ci\n",
    "\n",
    "fig,ax = plt.subplots(1,1,figsize=(12,8))\n",
    "ax = sns.histplot(sample_means)\n",
    "ax.axvline(df.magnesium.mean(), color='r');\n",
    "ax.axvline(ci[0],color='k')\n",
    "ax.axvline(ci[1],color='k')\n",
    "ax.set_xlabel('bootstrap sample means');\n",
    "ax.set_ylabel('frequency');"
   ]
  }
 ],
 "metadata": {
  "kernelspec": {
   "display_name": "Python 3 (ipykernel)",
   "language": "python",
   "name": "python3"
  },
  "language_info": {
   "codemirror_mode": {
    "name": "ipython",
    "version": 3
   },
   "file_extension": ".py",
   "mimetype": "text/x-python",
   "name": "python",
   "nbconvert_exporter": "python",
   "pygments_lexer": "ipython3",
   "version": "3.9.7"
  }
 },
 "nbformat": 4,
 "nbformat_minor": 2
}
